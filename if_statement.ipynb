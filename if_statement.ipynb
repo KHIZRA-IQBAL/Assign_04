{
  "nbformat": 4,
  "nbformat_minor": 0,
  "metadata": {
    "colab": {
      "provenance": [],
      "authorship_tag": "ABX9TyN+xrlYgziap1aoaqQyJX9m",
      "include_colab_link": true
    },
    "kernelspec": {
      "name": "python3",
      "display_name": "Python 3"
    },
    "language_info": {
      "name": "python"
    }
  },
  "cells": [
    {
      "cell_type": "markdown",
      "metadata": {
        "id": "view-in-github",
        "colab_type": "text"
      },
      "source": [
        "<a href=\"https://colab.research.google.com/github/KHIZRA-IQBAL/Assign_04/blob/main/if_statement.ipynb\" target=\"_parent\"><img src=\"https://colab.research.google.com/assets/colab-badge.svg\" alt=\"Open In Colab\"/></a>"
      ]
    },
    {
      "cell_type": "code",
      "execution_count": null,
      "metadata": {
        "colab": {
          "base_uri": "https://localhost:8080/"
        },
        "collapsed": true,
        "id": "uPpZg3FEfI2a",
        "outputId": "593fbd40-b364-4dff-c68d-cdcbfa48fdc3"
      },
      "outputs": [
        {
          "output_type": "stream",
          "name": "stdout",
          "text": [
            "here is 20 even numbers are : 0\n",
            "here is 20 even numbers are : 2\n",
            "here is 20 even numbers are : 4\n",
            "here is 20 even numbers are : 6\n",
            "here is 20 even numbers are : 8\n",
            "here is 20 even numbers are : 10\n",
            "here is 20 even numbers are : 12\n",
            "here is 20 even numbers are : 14\n",
            "here is 20 even numbers are : 16\n",
            "here is 20 even numbers are : 18\n",
            "here is 20 even numbers are : 20\n",
            "here is 20 even numbers are : 22\n",
            "here is 20 even numbers are : 24\n",
            "here is 20 even numbers are : 26\n",
            "here is 20 even numbers are : 28\n",
            "here is 20 even numbers are : 30\n",
            "here is 20 even numbers are : 32\n",
            "here is 20 even numbers are : 34\n",
            "here is 20 even numbers are : 36\n",
            "here is 20 even numbers are : 38\n",
            "here is 20 even numbers are : 40\n",
            "here is 20 even numbers are : 42\n",
            "here is 20 even numbers are : 44\n",
            "here is 20 even numbers are : 46\n",
            "here is 20 even numbers are : 48\n",
            "here is 20 even numbers are : 50\n",
            "here is 20 even numbers are : 52\n",
            "here is 20 even numbers are : 54\n",
            "here is 20 even numbers are : 56\n",
            "here is 20 even numbers are : 58\n",
            "here is 20 even numbers are : 60\n",
            "here is 20 even numbers are : 62\n",
            "here is 20 even numbers are : 64\n",
            "here is 20 even numbers are : 66\n",
            "here is 20 even numbers are : 68\n",
            "here is 20 even numbers are : 70\n",
            "here is 20 even numbers are : 72\n",
            "here is 20 even numbers are : 74\n",
            "here is 20 even numbers are : 76\n",
            "here is 20 even numbers are : 78\n"
          ]
        }
      ],
      "source": [
        "#01_print_events\n",
        "def even():\n",
        "  for i  in range(40):\n",
        "    print(\"here is 20 even numbers are :\",i * 2)\n",
        "\n",
        "even()"
      ]
    },
    {
      "cell_type": "code",
      "source": [
        "#02_international_voting_age\n",
        "Peturksbouipo:int=16\n",
        "Stanlau:int=25\n",
        "Mayengua:int=48\n",
        "age:int=int(input(\"what's your age:\"))\n",
        "\n",
        "def main():\n",
        "\n",
        "\n",
        "  if Peturksbouipo <= 16:\n",
        "    print(\"you are eligible to vote for Peturksbouipo\")\n",
        "  else:\n",
        "    print(\"Peturksbouipo cannot vote\")\n",
        "if Stanlau >= 25:\n",
        "    print(\"you are eligible to vote for Stanlau\")\n",
        "else:\n",
        "    print(\"Stanlau cannot vote\")\n",
        "\n",
        "if Mayengua >= 48:\n",
        "    print(\"you are eligible to vote for Mayengua\")\n",
        "else:\n",
        "    print(\"Stanlau cannot vote\")\n",
        "main()"
      ],
      "metadata": {
        "colab": {
          "base_uri": "https://localhost:8080/"
        },
        "id": "tGhv_tk_hOG_",
        "outputId": "6a9661f7-7fa5-4648-f784-cb49928593cc"
      },
      "execution_count": null,
      "outputs": [
        {
          "output_type": "stream",
          "name": "stdout",
          "text": [
            "what's your age:45\n",
            "you are eligible to vote for Stanlau\n",
            "you are eligible to vote for Mayengua\n",
            "you are eligible to vote for Peturksbouipo\n"
          ]
        }
      ]
    },
    {
      "cell_type": "code",
      "source": [
        "def  leep_year():\n",
        "  year:int=int(input(\"Enter a year:\"))\n",
        "  if year % 4 == 0:\n",
        "    if year % 100 == 0:\n",
        "      if year % 400 == 0:\n",
        "        print(f\"{year} is a leap year\")\n",
        "      else:\n",
        "        print(f\"{year} is not a leap year\")\n",
        "  else:\n",
        "    print(f\"{year} is not a leap year\")\n",
        "leep_year()"
      ],
      "metadata": {
        "colab": {
          "base_uri": "https://localhost:8080/"
        },
        "id": "WTZJY6jdmAAo",
        "outputId": "e97b9c7d-0f0d-4e95-b376-0b2e57fcc1ec"
      },
      "execution_count": null,
      "outputs": [
        {
          "output_type": "stream",
          "name": "stdout",
          "text": [
            "Enter a year:300\n",
            "300 is not a leap year\n"
          ]
        }
      ]
    },
    {
      "cell_type": "code",
      "source": [
        "#tall_enough_to_ride\n",
        "min_height:int=50\n",
        "def main():\n",
        "  user:int=int(input(\"Enter your height:\"))\n",
        "  if user >= min_height:\n",
        "    print(\"you are tall enough to ride\")\n",
        "  else:\n",
        "    print(\"you are not tall enough to ride.May be next year\")\n",
        "main()\n"
      ],
      "metadata": {
        "colab": {
          "base_uri": "https://localhost:8080/"
        },
        "id": "kg3IJs1qoGEe",
        "outputId": "d567a643-4634-432e-e754-e8216fdc9d9b"
      },
      "execution_count": null,
      "outputs": [
        {
          "output_type": "stream",
          "name": "stdout",
          "text": [
            "Enter your height:51\n",
            "you are tall enough to ride\n"
          ]
        }
      ]
    },
    {
      "cell_type": "code",
      "source": [
        "#random_numbers\n",
        "import random\n",
        "\n",
        "def main():\n",
        "  for i in range(10):\n",
        "    num:list[int]=random.randint(0,100)\n",
        "    print(num)\n",
        "main()\n"
      ],
      "metadata": {
        "colab": {
          "base_uri": "https://localhost:8080/"
        },
        "id": "2fyTewOSrelw",
        "outputId": "1006708c-cd10-42c9-aceb-779392eecad0"
      },
      "execution_count": null,
      "outputs": [
        {
          "output_type": "stream",
          "name": "stdout",
          "text": [
            "72\n",
            "13\n",
            "81\n",
            "17\n",
            "8\n",
            "20\n",
            "26\n",
            "2\n",
            "76\n",
            "50\n"
          ]
        }
      ]
    }
  ]
}