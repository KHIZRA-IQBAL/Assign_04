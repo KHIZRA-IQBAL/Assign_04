{
  "cells": [
    {
      "cell_type": "markdown",
      "metadata": {
        "id": "view-in-github",
        "colab_type": "text"
      },
      "source": [
        "<a href=\"https://colab.research.google.com/github/KHIZRA-IQBAL/Assign_04/blob/main/loop_control_fow.ipynb\" target=\"_parent\"><img src=\"https://colab.research.google.com/assets/colab-badge.svg\" alt=\"Open In Colab\"/></a>"
      ]
    },
    {
      "cell_type": "code",
      "execution_count": null,
      "metadata": {
        "collapsed": true,
        "id": "q85cWZN5Rpr9"
      },
      "outputs": [],
      "source": [
        "import random\n",
        "\n",
        "def main():\n",
        "    secret = random.randint(1, 100)\n",
        "    print(\"Guess a number between 1 and 100.\")\n",
        "\n",
        "    while True:\n",
        "        try:\n",
        "            guess = int(input(\"Enter a guess: \"))\n",
        "            if guess < secret:\n",
        "                print(\"Too low. Try again.\")\n",
        "            elif guess > secret:\n",
        "                print(\"Too high. Try again.\")\n",
        "            else:\n",
        "                print(f\"You got it! {guess}\")\n",
        "                break\n",
        "        except ValueError:\n",
        "            print(\"Please enter a valid number.\")\n",
        "\n",
        "main()\n",
        "\n"
      ]
    },
    {
      "cell_type": "code",
      "execution_count": null,
      "metadata": {
        "id": "Qv9PR4myXmrW"
      },
      "outputs": [],
      "source": [
        "#01_fiboncci\n",
        "\n",
        "max_value = 10000\n",
        "\n",
        "def main():\n",
        "  a,b =0,1\n",
        "  print(a,b,end=\" \")\n",
        "\n",
        "  while True:\n",
        "    c=a+b\n",
        "    if c>=max_value:\n",
        "      break\n",
        "    print(c,end=\" \")\n",
        "    a,b=b,c\n",
        "\n",
        "if __name__ == \"__main__\":\n",
        "  main()"
      ]
    },
    {
      "cell_type": "code",
      "execution_count": null,
      "metadata": {
        "id": "cliiHsiKZdyN"
      },
      "outputs": [],
      "source": [
        "#02_print_events\n",
        "\n",
        "def main():\n",
        "  for i in range(20):\n",
        "    print(i*2)\n",
        "\n",
        "if __name__ == \"__main__\":\n",
        "  main()"
      ]
    },
    {
      "cell_type": "code",
      "execution_count": null,
      "metadata": {
        "colab": {
          "background_save": true
        },
        "id": "RqM_JWsYadKp",
        "outputId": "6b6940c3-bfdb-4bc7-cd8f-c2dd6027261d"
      },
      "outputs": [
        {
          "name": "stdout",
          "output_type": "stream",
          "text": [
            "Welcome to the Wholesome Machine!\n",
            "thats wrong\n",
            "thats wrong\n"
          ]
        }
      ],
      "source": [
        "#wholesome_machine\n",
        "correct_afformation=\"i am capable of doing anything. I put my mind too.\"\n",
        "def main():\n",
        "  print(\"Welcome to the Wholesome Machine!\")\n",
        "  while True:\n",
        "    user_input = input(\"please type the following affermation\" +  correct_afformation)\n",
        "    if user_input == correct_afformation:\n",
        "      print(\"thats right\")\n",
        "      break\n",
        "    else:\n",
        "      print(\"thats wrong\")\n",
        "\n",
        "if __name__ == \"__main__\":\n",
        "  main()"
      ]
    },
    {
      "cell_type": "code",
      "execution_count": null,
      "metadata": {
        "id": "iDP8uYIucWmw"
      },
      "outputs": [],
      "source": [
        "# liftoff\n",
        "def main():\n",
        "  for  i in range(10,0,-1):\n",
        "    print(i)\n",
        "  print(\"liftoff\")\n",
        "\n",
        "if __name__ == \"__main__\":\n",
        "  main()"
      ]
    },
    {
      "cell_type": "code",
      "execution_count": null,
      "metadata": {
        "id": "PgNB6Vs2ctBJ"
      },
      "outputs": [],
      "source": [
        "# double_it\n",
        "\n",
        "def main():\n",
        "  user_value= int(input(\"Enter  a number:\"))\n",
        "  while user_value < 100:\n",
        "    user_value=user_value*2\n",
        "    print(user_value)\n",
        "\n",
        "if __name__ == \"__main__\":\n",
        "  main()"
      ]
    }
  ],
  "metadata": {
    "colab": {
      "provenance": [],
      "authorship_tag": "ABX9TyMIDNP1VT6FlExQ2P9qla9F",
      "include_colab_link": true
    },
    "kernelspec": {
      "display_name": "Python 3",
      "name": "python3"
    },
    "language_info": {
      "name": "python"
    }
  },
  "nbformat": 4,
  "nbformat_minor": 0
}