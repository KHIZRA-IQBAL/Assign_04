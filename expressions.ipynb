{
  "nbformat": 4,
  "nbformat_minor": 0,
  "metadata": {
    "colab": {
      "provenance": [],
      "authorship_tag": "ABX9TyNBIcbr9s1ltae9sU/GNDAE",
      "include_colab_link": true
    },
    "kernelspec": {
      "name": "python3",
      "display_name": "Python 3"
    },
    "language_info": {
      "name": "python"
    }
  },
  "cells": [
    {
      "cell_type": "markdown",
      "metadata": {
        "id": "view-in-github",
        "colab_type": "text"
      },
      "source": [
        "<a href=\"https://colab.research.google.com/github/KHIZRA-IQBAL/Assign_04/blob/main/expressions.ipynb\" target=\"_parent\"><img src=\"https://colab.research.google.com/assets/colab-badge.svg\" alt=\"Open In Colab\"/></a>"
      ]
    },
    {
      "cell_type": "code",
      "execution_count": null,
      "metadata": {
        "colab": {
          "base_uri": "https://localhost:8080/"
        },
        "id": "Jx0fLyRef8pR",
        "outputId": "8a0a2c96-1652-42e9-f7f7-1c07ed7471e9"
      },
      "outputs": [
        {
          "output_type": "stream",
          "name": "stdout",
          "text": [
            "die1 in main() starts as: 10\n",
            "Rolled: 3, 4\n",
            "Rolled: 1, 4\n",
            "Rolled: 1, 6\n",
            "die1 in main() is: 10\n"
          ]
        }
      ],
      "source": [
        "import random\n",
        "\n",
        "def roll_dice():\n",
        "    die1 = random.randint(1, 6)  # Local variable\n",
        "    die2 = random.randint(1, 6)  # Local variable\n",
        "    print(f\"Rolled: {die1}, {die2}\")\n",
        "\n",
        "def main():\n",
        "    die1 = 10\n",
        "    print(f\"die1 in main() starts as: {die1}\")\n",
        "    roll_dice()\n",
        "    roll_dice()\n",
        "    roll_dice()\n",
        "    print(f\"die1 in main() is: {die1}\")\n",
        "\n",
        "if __name__ == '__main__':\n",
        "    main()\n"
      ]
    },
    {
      "cell_type": "code",
      "source": [
        "#constant valule of light\n",
        "C = 299792458\n",
        "\n",
        "def calculate_energy(mass):\n",
        "    \"\"\"Calculate energy using E = m * c^2\"\"\"\n",
        "    energy = mass * C**2\n",
        "    return energy\n",
        "\n",
        "while True:\n",
        "    try:\n",
        "\n",
        "        mass = float(input(\"Enter kilos of mass: \"))\n",
        "        print(\"\\nE = m * C^2...\")\n",
        "        print(f\"m = {mass} kg\")\n",
        "        print(f\"C = {C} m/s\")\n",
        "\n",
        "        # Calculate\n",
        "        energy = calculate_energy(mass)\n",
        "        print(f\"{energy} joules of energy!\\n\")\n",
        "    except ValueError:\n",
        "        print(\"Please enter a valid number for mass.\\n\")\n",
        "\n",
        "    continue_program = input(\"Do you want to enter another mass? (yes/no): \").strip().lower()\n",
        "    if continue_program != \"yes\":\n",
        "        break\n"
      ],
      "metadata": {
        "id": "SIiILcyZk6oD"
      },
      "execution_count": null,
      "outputs": []
    },
    {
      "cell_type": "code",
      "source": [
        "inches_in_feet = 12\n",
        "def feet():\n",
        "  feet=float(input(\"Enter feet: \"))\n",
        "  inches:float=feet*inches_in_feet\n",
        "  print(f\"{feet} feet is {inches} inches\")\n",
        "feet()"
      ],
      "metadata": {
        "colab": {
          "base_uri": "https://localhost:8080/"
        },
        "id": "cNdQoHS6mAer",
        "outputId": "7807c550-a2fc-4982-c994-25eba3832501"
      },
      "execution_count": null,
      "outputs": [
        {
          "output_type": "stream",
          "name": "stdout",
          "text": [
            "Enter feet: 7\n",
            "7.0 feet is 84.0 inches\n"
          ]
        }
      ]
    },
    {
      "cell_type": "code",
      "source": [
        "import math\n",
        "\n",
        "def calculate_hypotenuse():\n",
        "  side1 = float(input(\"Enter side 1: \"))\n",
        "  side2 = float(input(\"Enter side 2: \"))\n",
        "  hypotenuse = math.sqrt(side1**2 + side2**2)\n",
        "  print(f\"The hypotenuse is:{hypotenuse}\")\n",
        "calculate_hypotenuse()"
      ],
      "metadata": {
        "colab": {
          "base_uri": "https://localhost:8080/"
        },
        "id": "gih_iXSRoHzN",
        "outputId": "d4f06e26-b4ec-47ac-bd6a-0703fe950a1d"
      },
      "execution_count": null,
      "outputs": [
        {
          "output_type": "stream",
          "name": "stdout",
          "text": [
            "Enter side 1: 3\n",
            "Enter side 2: 4\n",
            "The hypotenuse is:5.0\n"
          ]
        }
      ]
    },
    {
      "cell_type": "code",
      "source": [
        "def dev_quo():\n",
        "  dividend= int(input(\"Enter :integer tyo be divided \"))\n",
        "  divisor = int(input(\"Enter :integer to divided by\"))\n",
        "  quotient=dividend // divisor\n",
        "  remainder=dividend % divisor\n",
        "  print(\"The result of this division is \" + str(quotient) + \" with a remainder of \" + str(remainder))\n",
        "dev_quo()"
      ],
      "metadata": {
        "colab": {
          "base_uri": "https://localhost:8080/"
        },
        "id": "t6337UHGrYde",
        "outputId": "06ff206d-4634-4afd-ab9e-863b4386d03f"
      },
      "execution_count": null,
      "outputs": [
        {
          "output_type": "stream",
          "name": "stdout",
          "text": [
            "Enter :integer tyo be divided 3\n",
            "Enter :integer to divided by4\n",
            "The result of this division is 0 with a remainder of 3\n"
          ]
        }
      ]
    },
    {
      "cell_type": "code",
      "source": [
        "def roll_dice():\n",
        "  die1=random.randint(1,6)\n",
        "  die2=random.randint(1,6)\n",
        "  total=die1+die2\n",
        "  print(f\"Rolling:{die1},{die2},Total:{total}\")\n",
        "roll_dice()\n"
      ],
      "metadata": {
        "colab": {
          "base_uri": "https://localhost:8080/"
        },
        "id": "r4dtFEbRt4XI",
        "outputId": "75030445-0337-4f8c-ddc6-426d4ef9f94e"
      },
      "execution_count": null,
      "outputs": [
        {
          "output_type": "stream",
          "name": "stdout",
          "text": [
            "Rolling:6,2,Total:8\n"
          ]
        }
      ]
    },
    {
      "cell_type": "code",
      "source": [
        "#constant value\n",
        "DAYS_PER_YEAR: int = 365\n",
        "HOURS_PER_DAY: int = 24\n",
        "MIN_PER_HOUR: int = 60\n",
        "SEC_PER_MIN: int = 60\n",
        "\n",
        "def days_calculation():\n",
        "    print(\"There are \" + str(DAYS_PER_YEAR * HOURS_PER_DAY * MIN_PER_HOUR * SEC_PER_MIN) + \" seconds in a year\")\n",
        "\n",
        "days_calculation()"
      ],
      "metadata": {
        "colab": {
          "base_uri": "https://localhost:8080/"
        },
        "id": "vbNJv6RoxWSt",
        "outputId": "83bc8a27-a4a7-4f62-aa11-f6b618a7b770"
      },
      "execution_count": null,
      "outputs": [
        {
          "output_type": "stream",
          "name": "stdout",
          "text": [
            "There are 31536000 seconds in a year\n"
          ]
        }
      ]
    },
    {
      "cell_type": "code",
      "source": [
        "sentence_start:str=\"python is not programming it is love for those who  want to learned this\"\n",
        "def mid_labs():\n",
        "  noun:str=input(\"Enter a noun: \")\n",
        "  verb:str=input(\"Enter a verb: \")\n",
        "  adjetive:str=input(\"Enter a adjetive: \")\n",
        "  adverb:str=input(\"Enter a adverb: \")\n",
        "  print(f\"{sentence_start} {noun} {verb} {adjetive} {adverb} !\")\n",
        "mid_labs()"
      ],
      "metadata": {
        "colab": {
          "base_uri": "https://localhost:8080/"
        },
        "id": "c_m9zeksxnG_",
        "outputId": "4e777341-2715-4248-fca8-0dfa2ac438f7"
      },
      "execution_count": null,
      "outputs": [
        {
          "output_type": "stream",
          "name": "stdout",
          "text": [
            "Enter a noun: a\n",
            "Enter a verb: b\n",
            "Enter a adjetive: c\n",
            "Enter a adverb: d\n",
            "python is not programming it is love for those who  want to learned this a b c d\n"
          ]
        }
      ]
    }
  ]
}