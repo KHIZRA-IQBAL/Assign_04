{
  "nbformat": 4,
  "nbformat_minor": 0,
  "metadata": {
    "colab": {
      "provenance": [],
      "authorship_tag": "ABX9TyNaPzqs4mkYfzdMS2zthMcJ",
      "include_colab_link": true
    },
    "kernelspec": {
      "name": "python3",
      "display_name": "Python 3"
    },
    "language_info": {
      "name": "python"
    }
  },
  "cells": [
    {
      "cell_type": "markdown",
      "metadata": {
        "id": "view-in-github",
        "colab_type": "text"
      },
      "source": [
        "<a href=\"https://colab.research.google.com/github/KHIZRA-IQBAL/Assign_04/blob/main/List.ipynb\" target=\"_parent\"><img src=\"https://colab.research.google.com/assets/colab-badge.svg\" alt=\"Open In Colab\"/></a>"
      ]
    },
    {
      "cell_type": "code",
      "execution_count": null,
      "metadata": {
        "colab": {
          "base_uri": "https://localhost:8080/"
        },
        "id": "DjpBRluxeQaJ",
        "outputId": "413aa0e1-0707-49a8-a3d3-62d48bd8495e"
      },
      "outputs": [
        {
          "output_type": "stream",
          "name": "stdout",
          "text": [
            "15\n"
          ]
        }
      ],
      "source": [
        "def allnumbers(numbers: list) -> float:\n",
        "    total = 0\n",
        "    for num in numbers:\n",
        "        total += num\n",
        "    return total\n",
        "\n",
        "\n",
        "numbers = [1, 2, 3, 4, 5]\n",
        "print(allnumbers(numbers))\n",
        "\n",
        "\n",
        "\n"
      ]
    },
    {
      "cell_type": "code",
      "source": [
        "def sqaure(numbersdouble:list) ->float:\n",
        "  numbersdouble=[num*2 for num in numbersdouble]\n",
        "  return numbersdouble\n",
        "\n",
        "numbersdouble:list=[1,2,3,4,5,6,7,8,9]\n",
        "print(sqaure(numbersdouble))"
      ],
      "metadata": {
        "colab": {
          "base_uri": "https://localhost:8080/"
        },
        "id": "wMXX1mzPhDDx",
        "outputId": "62f73e30-266d-4bf9-cec9-693665240858"
      },
      "execution_count": null,
      "outputs": [
        {
          "output_type": "stream",
          "name": "stdout",
          "text": [
            "[2, 4, 6, 8, 10, 12, 14, 16, 18]\n"
          ]
        }
      ]
    },
    {
      "cell_type": "code",
      "source": [
        "def threecopies(lst,data):\n",
        "  for i in range(3):\n",
        "    lst.append(data)\n",
        "  return lst\n",
        "\n",
        "def main():\n",
        "  message=input(\"enter a message to copy: \")\n",
        "  lst=[]\n",
        "  print(\"Before List:\",lst)\n",
        "  threecopies(lst,message)\n",
        "  print(\"After List:\",lst)\n",
        "\n",
        "main()\n"
      ],
      "metadata": {
        "colab": {
          "base_uri": "https://localhost:8080/"
        },
        "id": "PfCfWXZwnLgJ",
        "outputId": "60e235fa-efe2-4811-d7b2-2d16fcb8e9ed"
      },
      "execution_count": null,
      "outputs": [
        {
          "output_type": "stream",
          "name": "stdout",
          "text": [
            "enter a message to copy: hello pakistan\n",
            "Before List: []\n",
            "After List: ['hello pakistan', 'hello pakistan', 'hello pakistan']\n"
          ]
        }
      ]
    },
    {
      "cell_type": "code",
      "source": [
        "def get_first_ele(lst):\n",
        "  print(lst[0])\n",
        "def get_lst():\n",
        "  lst=[]\n",
        "  element:str=input(\"Enter an element: \")\n",
        "  while element!=\"\":\n",
        "    lst.append(element)\n",
        "    element=input(\"Enter an element:\")\n",
        "  return lst\n",
        "def main():\n",
        "  lst=get_lst()\n",
        "  get_first_ele(lst)\n",
        "main()"
      ],
      "metadata": {
        "colab": {
          "base_uri": "https://localhost:8080/"
        },
        "id": "RXRrdos6p9xK",
        "outputId": "b9e923ec-61db-4aac-ece8-f46fb68ae191"
      },
      "execution_count": null,
      "outputs": [
        {
          "output_type": "stream",
          "name": "stdout",
          "text": [
            "Enter an element: 2\n",
            "Enter an element:3\n",
            "Enter an element:\n",
            "The first element is:\n",
            "2\n"
          ]
        }
      ]
    },
    {
      "cell_type": "code",
      "source": [
        "#get last element\n",
        "\n",
        "def  get_last_ele(lst):\n",
        "  print(lst[-1])\n",
        "def get_lst():\n",
        "  lst=[]\n",
        "  element:str=input(\"Enter an element: \")\n",
        "  while element!=\"\":\n",
        "    lst.append(element)\n",
        "    element=input(\"Enter an element:\")\n",
        "  return lst\n",
        "def main():\n",
        "  lst=get_lst()\n",
        "  get_last_ele(lst)\n",
        "main()\n",
        "\n"
      ],
      "metadata": {
        "colab": {
          "base_uri": "https://localhost:8080/"
        },
        "id": "EX5TAnilryPw",
        "outputId": "500e36a1-47b5-4929-d7e5-8f6842b20c66"
      },
      "execution_count": null,
      "outputs": [
        {
          "output_type": "stream",
          "name": "stdout",
          "text": [
            "Enter an element: 4\n",
            "Enter an element:4\n",
            "Enter an element:5\n",
            "Enter an element:7\n",
            "Enter an element:9\n",
            "Enter an element:\n",
            "9\n"
          ]
        }
      ]
    },
    {
      "cell_type": "code",
      "source": [
        "# get_list\n",
        "\n",
        "def main():\n",
        "  lst=[]\n",
        "  val=input(\"Enter a value: \")\n",
        "  while val:\n",
        "    lst.append(val)\n",
        "    val=input(\"Enter a value: \")\n",
        "  print(\"here is the list\",lst)\n",
        "\n",
        "main()"
      ],
      "metadata": {
        "colab": {
          "base_uri": "https://localhost:8080/"
        },
        "id": "LlqFRisZ3Oyk",
        "outputId": "6e56166a-2893-4514-ef68-a9dae0f3d4f9"
      },
      "execution_count": null,
      "outputs": [
        {
          "output_type": "stream",
          "name": "stdout",
          "text": [
            "Enter a value: 4\n",
            "Enter a value: 4\n",
            "Enter a value: 6\n",
            "Enter a value: 7\n",
            "Enter a value: 8\n",
            "Enter a value: \n",
            "here is the list ['4', '4', '6', '7', '8']\n"
          ]
        }
      ]
    },
    {
      "cell_type": "code",
      "source": [
        "#08_shorten_list\n",
        "max_len:int=3\n",
        "def shorter(lst):\n",
        "  while  len(lst)>max_len:\n",
        "    last_ele=lst.pop()\n",
        "    print(last_ele)\n",
        "def get_lst():\n",
        "  lst=[]\n",
        "  val=input(\"Enter a elemet to add in the list: \")\n",
        "  while val != \"\":\n",
        "    lst.append(val)\n",
        "    val=input(\"Enter a elemet to add in the list: \")\n",
        "  return lst\n",
        "def main():\n",
        "  lst=get_lst()\n",
        "  shorter(lst)\n",
        "\n",
        "main()"
      ],
      "metadata": {
        "id": "6kPG93fb5Iuz",
        "colab": {
          "base_uri": "https://localhost:8080/"
        },
        "outputId": "fcb39dac-5fbb-4f58-a93e-d27b79f0dbca"
      },
      "execution_count": null,
      "outputs": [
        {
          "output_type": "stream",
          "name": "stdout",
          "text": [
            "Enter a elemet to add in the list: y\n",
            "Enter a elemet to add in the list: t\n",
            "Enter a elemet to add in the list: h\n",
            "Enter a elemet to add in the list: m\n",
            "Enter a elemet to add in the list: \n",
            "m\n"
          ]
        }
      ]
    }
  ]
}