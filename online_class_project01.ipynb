{
  "nbformat": 4,
  "nbformat_minor": 0,
  "metadata": {
    "colab": {
      "provenance": [],
      "authorship_tag": "ABX9TyNgzyuQe8s1124peACKuCIC",
      "include_colab_link": true
    },
    "kernelspec": {
      "name": "python3",
      "display_name": "Python 3"
    },
    "language_info": {
      "name": "python"
    }
  },
  "cells": [
    {
      "cell_type": "markdown",
      "metadata": {
        "id": "view-in-github",
        "colab_type": "text"
      },
      "source": [
        "<a href=\"https://colab.research.google.com/github/KHIZRA-IQBAL/Assign_04/blob/main/online_class_project01.ipynb\" target=\"_parent\"><img src=\"https://colab.research.google.com/assets/colab-badge.svg\" alt=\"Open In Colab\"/></a>"
      ]
    },
    {
      "cell_type": "code",
      "execution_count": null,
      "metadata": {
        "colab": {
          "base_uri": "https://localhost:8080/"
        },
        "id": "EV0AKp-BpUsf",
        "outputId": "e9aaf6e5-460d-42a6-e0ba-9d2656d301ed"
      },
      "outputs": [
        {
          "output_type": "stream",
          "name": "stdout",
          "text": [
            "What do you want? joke\n",
            "Sorry, I only tell jokes.\n"
          ]
        }
      ],
      "source": [
        "# 00_joke_bot.py\n",
        "\n",
        "prompt: str = \"What do you want? \"\n",
        "joke: str = \"tell me a joke\"\n",
        "response: str = \"Why don't skeletons fight each other? Because they don't have the guts! 💀😂\"\n",
        "SORRY: str = \"Sorry, I only tell jokes.\"\n",
        "\n",
        "def main():\n",
        "    user_input = input(prompt)\n",
        "    user_input = user_input.lower()\n",
        "    if user_input == joke:\n",
        "        print(response)\n",
        "    else:\n",
        "        print(SORRY)\n",
        "\n",
        "if __name__ == \"__main__\":\n",
        "    main()\n"
      ]
    },
    {
      "cell_type": "code",
      "source": [
        "# double_it\n",
        "\n",
        "def main():\n",
        "  user_value= int(input(\"Enter  a number:\"))\n",
        "  while user_value < 100:\n",
        "    user_value=user_value*2\n",
        "    print(user_value)\n",
        "\n",
        "if __name__ == \"__main__\":\n",
        "  main()"
      ],
      "metadata": {
        "id": "xXhdHdQp1DQG",
        "colab": {
          "base_uri": "https://localhost:8080/"
        },
        "outputId": "9504de11-96ef-45e1-d327-dac625a27b4d"
      },
      "execution_count": null,
      "outputs": [
        {
          "output_type": "stream",
          "name": "stdout",
          "text": [
            "Enter  a number:3\n",
            "6\n",
            "12\n",
            "24\n",
            "48\n",
            "96\n",
            "192\n"
          ]
        }
      ]
    },
    {
      "cell_type": "code",
      "source": [
        "# liftoff\n",
        "def main():\n",
        "  for  i in range(10,0,-1):\n",
        "    print(i)\n",
        "  print(\"liftoff\")\n",
        "\n",
        "if __name__ == \"__main__\":\n",
        "  main()"
      ],
      "metadata": {
        "id": "77v6Vq4H1EE7",
        "colab": {
          "base_uri": "https://localhost:8080/"
        },
        "outputId": "85e2452b-04a2-4bcd-fef7-311bd81918af"
      },
      "execution_count": null,
      "outputs": [
        {
          "output_type": "stream",
          "name": "stdout",
          "text": [
            "10\n",
            "9\n",
            "8\n",
            "7\n",
            "6\n",
            "5\n",
            "4\n",
            "3\n",
            "2\n",
            "1\n",
            "liftoff\n"
          ]
        }
      ]
    },
    {
      "cell_type": "code",
      "source": [
        "import random\n",
        "\n",
        "def main():\n",
        "    secret = random.randint(1, 100)\n",
        "    print(\"Guess a number between 1 and 100.\")\n",
        "\n",
        "    while True:\n",
        "        try:\n",
        "            guess = int(input(\"Enter a guess: \"))\n",
        "            if guess < secret:\n",
        "                print(\"Too low. Try again.\")\n",
        "            elif guess > secret:\n",
        "                print(\"Too high. Try again.\")\n",
        "            else:\n",
        "                print(f\"You got it! {guess}\")\n",
        "                break\n",
        "        except ValueError:\n",
        "            print(\"Please enter a valid number.\")\n",
        "\n",
        "main()\n"
      ],
      "metadata": {
        "id": "n8qGJcws1Jau"
      },
      "execution_count": null,
      "outputs": []
    },
    {
      "cell_type": "code",
      "source": [
        "import random\n",
        "\n",
        "def main():\n",
        "  for i in range(10):\n",
        "    num:list[int]=random.randint(0,100)\n",
        "    print(num)\n",
        "main()"
      ],
      "metadata": {
        "id": "DxHpGdR31SDK"
      },
      "execution_count": null,
      "outputs": []
    }
  ]
}