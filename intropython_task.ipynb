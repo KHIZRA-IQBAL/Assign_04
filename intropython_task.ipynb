{
  "nbformat": 4,
  "nbformat_minor": 0,
  "metadata": {
    "colab": {
      "provenance": [],
      "authorship_tag": "ABX9TyMjFfIj2I+u2IuK3WkOdnXO",
      "include_colab_link": true
    },
    "kernelspec": {
      "name": "python3",
      "display_name": "Python 3"
    },
    "language_info": {
      "name": "python"
    }
  },
  "cells": [
    {
      "cell_type": "markdown",
      "metadata": {
        "id": "view-in-github",
        "colab_type": "text"
      },
      "source": [
        "<a href=\"https://colab.research.google.com/github/KHIZRA-IQBAL/Assign_04/blob/main/intropython_task.ipynb\" target=\"_parent\"><img src=\"https://colab.research.google.com/assets/colab-badge.svg\" alt=\"Open In Colab\"/></a>"
      ]
    },
    {
      "cell_type": "code",
      "execution_count": null,
      "metadata": {
        "colab": {
          "base_uri": "https://localhost:8080/"
        },
        "id": "_BGuSA3092uY",
        "outputId": "acd6d1da-ea28-4ed7-cb5b-000d8f284d30"
      },
      "outputs": [
        {
          "output_type": "stream",
          "name": "stdout",
          "text": [
            "Enter your first number: 4\n",
            "Enter your second number: 4\n",
            "the sum of 4 and 4  is  8.\n"
          ]
        }
      ],
      "source": [
        "def Addition():\n",
        "  num1=int(input(\"Enter your first number: \"))\n",
        "  num2=int(input(\"Enter your second number: \"))\n",
        "  Total=num1+num2\n",
        "  print(f\"the sum of {num1} and {num2}  is  {Total}.\")\n",
        "Addition()"
      ]
    },
    {
      "cell_type": "code",
      "source": [
        "def FavAnimal():\n",
        "    favanimal = input(\"Enter your favorite animal: \")\n",
        "    if favanimal.isalpha():\n",
        "        print(f\"My favorite animal is also {favanimal}\")\n",
        "    else:\n",
        "        print(\"Please enter a valid animal name using only letters.\")\n",
        "\n",
        "FavAnimal()"
      ],
      "metadata": {
        "colab": {
          "base_uri": "https://localhost:8080/"
        },
        "id": "n2ToHhe2ZLfv",
        "outputId": "a90320e4-7813-4042-fa95-9928d96e93d4"
      },
      "execution_count": null,
      "outputs": [
        {
          "output_type": "stream",
          "name": "stdout",
          "text": [
            "Enter your favorite animal: dog\n",
            "My favorite animal is also dog\n"
          ]
        }
      ]
    },
    {
      "cell_type": "code",
      "source": [
        "fahrenheit = input(\"Enter temperature in Fahrenheit: \");\n",
        "if fahrenheit == \"\":\n",
        "    fahrenheit = \"0\"\n",
        "fahrenheit = float(fahrenheit);\n",
        "\n",
        "celsius = int(fahrenheit - 32) * 5.0 / 9.0;\n",
        "\n",
        "\n",
        "print(f\"Temperature: ${fahrenheit}F = ${celsius}C\");\n"
      ],
      "metadata": {
        "colab": {
          "base_uri": "https://localhost:8080/"
        },
        "id": "jY5as14Va-lD",
        "outputId": "633f24e6-9125-4051-aa11-de4c762fab05"
      },
      "execution_count": null,
      "outputs": [
        {
          "output_type": "stream",
          "name": "stdout",
          "text": [
            "Enter temperature in Fahrenheit: 45\n",
            "Temperature: $45.0F = $7.222222222222222C\n"
          ]
        }
      ]
    },
    {
      "cell_type": "code",
      "source": [
        "def solve_friends_age():\n",
        "    Anton = 21\n",
        "    Beth = Anton + 6\n",
        "    Chen = Beth + 20\n",
        "    Drew = Chen + Anton\n",
        "    Ethan = Chen\n",
        "\n",
        "    print(f\"Anton is {Anton} years old.\")\n",
        "    print(f\"Beth is {Beth} years old.\")\n",
        "    print(f\"Chen is {Chen} years old.\")\n",
        "    print(f\"Drew is {Drew} years old.\")\n",
        "    print(f\"Ethan is {Ethan} years old.\")\n",
        "\n",
        "solve_friends_age()"
      ],
      "metadata": {
        "colab": {
          "base_uri": "https://localhost:8080/"
        },
        "id": "TH6ux2cebxlU",
        "outputId": "faf7a3d8-0cfe-4ac8-a8e6-1b5faf6488c0"
      },
      "execution_count": null,
      "outputs": [
        {
          "output_type": "stream",
          "name": "stdout",
          "text": [
            "Anton is 21 years old.\n",
            "Beth is 27 years old.\n",
            "Chen is 47 years old.\n",
            "Drew is 68 years old.\n",
            "Ethan is 47 years old.\n"
          ]
        }
      ]
    },
    {
      "cell_type": "code",
      "source": [
        "def perimeter():\n",
        "    side1 = float(input(\"What is the length of side 1? \"))\n",
        "    side2 = float(input(\"What is the length of side 2? \"))\n",
        "    side3 = float(input(\"What is the length of side 3? \"))\n",
        "\n",
        "    perimeter = side1 + side2 + side3\n",
        "\n",
        "    print(f\"The perimeter of the triangle is {perimeter}\")\n",
        "\n",
        "\n",
        "perimeter()\n"
      ],
      "metadata": {
        "colab": {
          "base_uri": "https://localhost:8080/"
        },
        "id": "Nk8XnpbucwE8",
        "outputId": "e27d983a-748c-4717-a36e-eff01dc1beec"
      },
      "execution_count": null,
      "outputs": [
        {
          "output_type": "stream",
          "name": "stdout",
          "text": [
            "What is the length of side 1? 2\n",
            "What is the length of side 2? 2\n",
            "What is the length of side 3? 2\n",
            "The perimeter of the triangle is 6.0\n"
          ]
        }
      ]
    },
    {
      "cell_type": "code",
      "source": [
        "def square():\n",
        "    number = float(input(\"Type a number to see its square: \"))\n",
        "\n",
        "\n",
        "    square = number * number\n",
        "\n",
        "\n",
        "    print(f\"{number} squared is {square}\")\n",
        "\n",
        "\n",
        "square()\n"
      ],
      "metadata": {
        "colab": {
          "base_uri": "https://localhost:8080/"
        },
        "id": "03l6IGBeeABW",
        "outputId": "1f9fb5d5-dc86-4d1d-eb6b-7c1c34793da6"
      },
      "execution_count": null,
      "outputs": [
        {
          "output_type": "stream",
          "name": "stdout",
          "text": [
            "Type a number to see its square: 4\n",
            "4.0 squared is 16.0\n"
          ]
        }
      ]
    }
  ]
}